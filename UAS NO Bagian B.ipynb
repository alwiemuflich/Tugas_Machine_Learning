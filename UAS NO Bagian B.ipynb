{
  "nbformat": 4,
  "nbformat_minor": 0,
  "metadata": {
    "colab": {
      "name": "Untitled11.ipynb",
      "provenance": [],
      "authorship_tag": "ABX9TyNYq7ImdHyKvgleMqa/Ifk1",
      "include_colab_link": true
    },
    "kernelspec": {
      "name": "python3",
      "display_name": "Python 3"
    }
  },
  "cells": [
    {
      "cell_type": "markdown",
      "metadata": {
        "id": "view-in-github",
        "colab_type": "text"
      },
      "source": [
        "<a href=\"https://colab.research.google.com/github/alwiemuflich/Tugas_Machine_Learning/blob/main/UAS%20NO%20Bagian%20B.ipynb\" target=\"_parent\"><img src=\"https://colab.research.google.com/assets/colab-badge.svg\" alt=\"Open In Colab\"/></a>"
      ]
    },
    {
      "cell_type": "code",
      "metadata": {
        "id": "uMEiJK37Er_C"
      },
      "source": [
        "#Dataset\r\n",
        "body =['Cold','Cold', 'Warm', 'Warm', 'Warm']\r\n",
        "gives =['No', 'Yes', 'No','No','No']\r\n",
        "fourlegged =['Yes',  'No', 'No', 'No','Yes']\r\n",
        "hibernate =['Yes',  'No', 'No', 'Yes','Yes']\r\n",
        "\r\n",
        "mamalia =['No', 'No','No','No', 'Yes']"
      ],
      "execution_count": 1,
      "outputs": []
    },
    {
      "cell_type": "code",
      "metadata": {
        "colab": {
          "base_uri": "https://localhost:8080/"
        },
        "id": "M97Fu21jFIcH",
        "outputId": "f40e7954-5a74-4964-b19b-acb921deb843"
      },
      "source": [
        "#Import LabelEncoder\r\n",
        "from sklearn import preprocessing\r\n",
        "#creating labelEncoder\r\n",
        "le = preprocessing.LabelEncoder()\r\n",
        "#Convert label string ke numbers\r\n",
        "body_encoded=le.fit_transform(body)\r\n",
        "print (body_encoded)"
      ],
      "execution_count": 2,
      "outputs": [
        {
          "output_type": "stream",
          "text": [
            "[0 0 1 1 1]\n"
          ],
          "name": "stdout"
        }
      ]
    },
    {
      "cell_type": "code",
      "metadata": {
        "colab": {
          "base_uri": "https://localhost:8080/"
        },
        "id": "1d5WI9r9HTtv",
        "outputId": "4e007871-fa0d-42e4-a7b5-8edeff5d5fc1"
      },
      "source": [
        "#Import LabelEncoder\r\n",
        "from sklearn import preprocessing\r\n",
        "#creating labelEncoder\r\n",
        "label = preprocessing.LabelEncoder()\r\n",
        "#Convert label string ke numbers\r\n",
        "gives_encoded=label.fit_transform(gives)\r\n",
        "print (gives_encoded) \r\n",
        "\r\n",
        "fourlegged_encoded=label.fit_transform(fourlegged)\r\n",
        "print (fourlegged_encoded)\r\n",
        "\r\n",
        "hibernate_encoded=label.fit_transform(hibernate)\r\n",
        "print (hibernate_encoded)\r\n",
        "\r\n",
        "mamalia_encoded=label.fit_transform(mamalia)\r\n",
        "print (mamalia_encoded)"
      ],
      "execution_count": 3,
      "outputs": [
        {
          "output_type": "stream",
          "text": [
            "[0 1 0 0 0]\n",
            "[1 0 0 0 1]\n",
            "[1 0 0 1 1]\n",
            "[0 0 0 0 1]\n"
          ],
          "name": "stdout"
        }
      ]
    },
    {
      "cell_type": "code",
      "metadata": {
        "colab": {
          "base_uri": "https://localhost:8080/"
        },
        "id": "wuYuoIQGHhYK",
        "outputId": "4a551e05-ed4b-4c9b-a5ee-d1a40f80f6d5"
      },
      "source": [
        "print (\"body            :\",body_encoded)\r\n",
        "print (\"gives           :\",gives_encoded)\r\n",
        "print (\"fourlegged      :\",fourlegged_encoded)\r\n",
        "print (\"hibernate       :\",hibernate_encoded)\r\n",
        "print (\"mamalia         :\",mamalia_encoded)"
      ],
      "execution_count": 4,
      "outputs": [
        {
          "output_type": "stream",
          "text": [
            "body            : [0 0 1 1 1]\n",
            "gives           : [0 1 0 0 0]\n",
            "fourlegged      : [1 0 0 0 1]\n",
            "hibernate       : [1 0 0 1 1]\n",
            "mamalia         : [0 0 0 0 1]\n"
          ],
          "name": "stdout"
        }
      ]
    },
    {
      "cell_type": "code",
      "metadata": {
        "colab": {
          "base_uri": "https://localhost:8080/"
        },
        "id": "4zfGMbmzHjv6",
        "outputId": "833603aa-497b-4ddd-a1cd-bbd94cef1e70"
      },
      "source": [
        "#Combining fitur-fitur yang ada\r\n",
        "features=zip(body_encoded,gives_encoded,fourlegged_encoded,hibernate_encoded)\r\n",
        "features=list(features)\r\n",
        "print (tuple(features))"
      ],
      "execution_count": 5,
      "outputs": [
        {
          "output_type": "stream",
          "text": [
            "((0, 0, 1, 1), (0, 1, 0, 0), (1, 0, 0, 0), (1, 0, 0, 1), (1, 0, 1, 1))\n"
          ],
          "name": "stdout"
        }
      ]
    },
    {
      "cell_type": "code",
      "metadata": {
        "colab": {
          "base_uri": "https://localhost:8080/"
        },
        "id": "gGE0rcyaHtV_",
        "outputId": "2d87db66-6a29-4104-81e0-22235f37711e"
      },
      "source": [
        "#Import Gaussian Naive Bayes model\r\n",
        "from sklearn.naive_bayes import GaussianNB\r\n",
        "\r\n",
        "#Panggil Gaussian Classifier\r\n",
        "model = GaussianNB()\r\n",
        "\r\n",
        "#Train model untuk data training\r\n",
        "model.fit(features,mamalia)\r\n",
        "#Model.fit(features,label.reshape(-1,1))\r\n",
        "\r\n",
        "#Peridiction Output\r\n",
        "predicted = model.predict([[1,1,0,0]]) #1 : warm, 1: Yes, 0: No , 0 : No\r\n",
        "print (\"Hasil Perdiksi:\", predicted)"
      ],
      "execution_count": 6,
      "outputs": [
        {
          "output_type": "stream",
          "text": [
            "Hasil Perdiksi: ['No']\n"
          ],
          "name": "stdout"
        }
      ]
    }
  ]
}